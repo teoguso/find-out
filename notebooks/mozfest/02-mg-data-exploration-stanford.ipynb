{
 "cells": [
  {
   "cell_type": "markdown",
   "metadata": {},
   "source": [
    "# Exploratory analysis\n",
    "\n",
    "Here we take a look at the stanford-hatespeech dataset\n",
    "and try to extract and visualize its main characteristics."
   ]
  },
  {
   "cell_type": "code",
   "execution_count": 1,
   "metadata": {
    "pycharm": {
     "is_executing": false
    }
   },
   "outputs": [],
   "source": [
    "import matplotlib.pyplot as plt\n",
    "import numpy as np\n",
    "import pandas as pd\n",
    "# import seaborn as sns\n",
    "import spacy\n",
    "# from spacy.symbols import nsubj\n",
    "# from src.data.preprocess.helpers import (\n",
    "#     compare,\n",
    "#     contains_bigram,\n",
    "#     count_pejorative_bigrams,\n",
    "#     find_most_common_nouns,\n",
    "#     generate_ngrams,\n",
    "#     part_of_speech_frequency,\n",
    "#     verb_noun_syntactic_relation,\n",
    "#     syntactic_dependency_frequency,\n",
    "#     verb_noun_word_vectors,\n",
    "# )\n",
    "# from src.utils.misc import create_spacy_docs\n",
    "# from src.utils.preprocess_text_helpers import remove_stopwords\n",
    "# from src.visualization.visualize_exploratory_data_analysis import plot_word_vectors\n",
    "# plt.style.use('ggplot')\n",
    "# %matplotlib inline"
   ]
  },
  {
   "cell_type": "markdown",
   "metadata": {},
   "source": [
    "Let's load Spacy's language model (English-medium).\n",
    "This will take 10-20 seconds."
   ]
  },
  {
   "cell_type": "code",
   "execution_count": 4,
   "metadata": {
    "pycharm": {
     "is_executing": false
    }
   },
   "outputs": [
    {
     "name": "stdout",
     "output_type": "stream",
     "text": [
      "CPU times: user 14.3 s, sys: 376 ms, total: 14.6 s\n",
      "Wall time: 14.6 s\n"
     ]
    }
   ],
   "source": [
    "nlp = spacy.load(\"en_core_web_md\")"
   ]
  },
  {
   "cell_type": "markdown",
   "metadata": {},
   "source": [
    "The data is stored in a CSV file. Let's load it to a pandas dataframe:"
   ]
  },
  {
   "cell_type": "code",
   "execution_count": 5,
   "metadata": {
    "pycharm": {
     "is_executing": false
    }
   },
   "outputs": [],
   "source": [
    "df = pd.read_csv(\"../../data/processed/stanford-all.csv\", index_col=0)"
   ]
  },
  {
   "cell_type": "markdown",
   "metadata": {},
   "source": [
    "What does the data look like?"
   ]
  },
  {
   "cell_type": "code",
   "execution_count": 6,
   "metadata": {},
   "outputs": [
    {
     "data": {
      "text/html": [
       "<div>\n",
       "<style scoped>\n",
       "    .dataframe tbody tr th:only-of-type {\n",
       "        vertical-align: middle;\n",
       "    }\n",
       "\n",
       "    .dataframe tbody tr th {\n",
       "        vertical-align: top;\n",
       "    }\n",
       "\n",
       "    .dataframe thead th {\n",
       "        text-align: right;\n",
       "    }\n",
       "</style>\n",
       "<table border=\"1\" class=\"dataframe\">\n",
       "  <thead>\n",
       "    <tr style=\"text-align: right;\">\n",
       "      <th></th>\n",
       "      <th>text</th>\n",
       "      <th>label</th>\n",
       "    </tr>\n",
       "  </thead>\n",
       "  <tbody>\n",
       "    <tr>\n",
       "      <td>0</td>\n",
       "      <td>The new Doras cute af</td>\n",
       "      <td>0</td>\n",
       "    </tr>\n",
       "    <tr>\n",
       "      <td>1</td>\n",
       "      <td>@minniemonikive well</td>\n",
       "      <td>0</td>\n",
       "    </tr>\n",
       "    <tr>\n",
       "      <td>2</td>\n",
       "      <td>Rolou o skank</td>\n",
       "      <td>1</td>\n",
       "    </tr>\n",
       "    <tr>\n",
       "      <td>3</td>\n",
       "      <td>@AOC https//t.co/lbNOwMK1p2</td>\n",
       "      <td>1</td>\n",
       "    </tr>\n",
       "    <tr>\n",
       "      <td>4</td>\n",
       "      <td>@tangletorn We will be killed by a snake 3</td>\n",
       "      <td>0</td>\n",
       "    </tr>\n",
       "  </tbody>\n",
       "</table>\n",
       "</div>"
      ],
      "text/plain": [
       "                                         text  label\n",
       "0                       The new Doras cute af      0\n",
       "1                        @minniemonikive well      0\n",
       "2                               Rolou o skank      1\n",
       "3                 @AOC https//t.co/lbNOwMK1p2      1\n",
       "4  @tangletorn We will be killed by a snake 3      0"
      ]
     },
     "execution_count": 6,
     "metadata": {},
     "output_type": "execute_result"
    }
   ],
   "source": [
    "df.head()"
   ]
  },
  {
   "cell_type": "code",
   "execution_count": 7,
   "metadata": {},
   "outputs": [
    {
     "data": {
      "text/plain": [
       "(31014, 2)"
      ]
     },
     "execution_count": 7,
     "metadata": {},
     "output_type": "execute_result"
    }
   ],
   "source": [
    "df.shape"
   ]
  },
  {
   "cell_type": "markdown",
   "metadata": {},
   "source": [
    "Records with label=1 *are misogynistic*, with label=0 are not."
   ]
  },
  {
   "cell_type": "markdown",
   "metadata": {},
   "source": [
    "What's the positive vs negative label distribution?"
   ]
  },
  {
   "cell_type": "code",
   "execution_count": 8,
   "metadata": {},
   "outputs": [
    {
     "data": {
      "text/plain": [
       "0.6365189914232282"
      ]
     },
     "execution_count": 8,
     "metadata": {},
     "output_type": "execute_result"
    }
   ],
   "source": [
    "df['label'].mean()"
   ]
  },
  {
   "cell_type": "code",
   "execution_count": 9,
   "metadata": {},
   "outputs": [
    {
     "data": {
      "text/plain": [
       "19741"
      ]
     },
     "execution_count": 9,
     "metadata": {},
     "output_type": "execute_result"
    }
   ],
   "source": [
    "df['label'].sum()"
   ]
  },
  {
   "cell_type": "markdown",
   "metadata": {},
   "source": [
    "Around 64% of the tweets are mysoginistic, which amounts to 19741 total tweets.\n",
    "Let's look at a couple examples.\n",
    "\n",
    "misogynistic:"
   ]
  },
  {
   "cell_type": "code",
   "execution_count": 10,
   "metadata": {},
   "outputs": [
    {
     "data": {
      "text/plain": [
       "\"@JessicaValenti That's a ship I'd upvote.\""
      ]
     },
     "execution_count": 10,
     "metadata": {},
     "output_type": "execute_result"
    }
   ],
   "source": [
    "df[df['label']==1].iloc[41, 0]"
   ]
  },
  {
   "cell_type": "markdown",
   "metadata": {},
   "source": [
    "Non-Misogynistic:"
   ]
  },
  {
   "cell_type": "code",
   "execution_count": 11,
   "metadata": {},
   "outputs": [
    {
     "data": {
      "text/plain": [
       "\"@Lstedmanbryce @NicolaSturgeon Someone on here said to me yesterday that the Brexit Party don't care about Scotland. You are proving them wrong Louis. Very sad and shocking statistics that you have raised. I hope you receive a worthy response about your concerns.\""
      ]
     },
     "execution_count": 11,
     "metadata": {},
     "output_type": "execute_result"
    }
   ],
   "source": [
    "df[df['label']==0].iloc[21, 0]"
   ]
  },
  {
   "cell_type": "markdown",
   "metadata": {},
   "source": [
    "Now we parse the text and create tokens along with their properties.\n",
    "This may take a minute."
   ]
  },
  {
   "cell_type": "code",
   "execution_count": 12,
   "metadata": {},
   "outputs": [
    {
     "name": "stdout",
     "output_type": "stream",
     "text": [
      "CPU times: user 52.8 s, sys: 1.62 s, total: 54.4 s\n",
      "Wall time: 54.4 s\n"
     ]
    }
   ],
   "source": [
    "%%time\n",
    "docs = list(nlp.pipe(df['content']))"
   ]
  },
  {
   "cell_type": "markdown",
   "metadata": {},
   "source": [
    "Now we have a Spacy *Document*, that can be used to inspect tokens attributes and other linguistic features."
   ]
  },
  {
   "cell_type": "code",
   "execution_count": 16,
   "metadata": {},
   "outputs": [
    {
     "data": {
      "text/plain": [
       "The new Doras cute af"
      ]
     },
     "execution_count": 16,
     "metadata": {},
     "output_type": "execute_result"
    }
   ],
   "source": [
    "docs[0]"
   ]
  },
  {
   "cell_type": "code",
   "execution_count": 17,
   "metadata": {},
   "outputs": [
    {
     "data": {
      "text/plain": [
       "True"
      ]
     },
     "execution_count": 17,
     "metadata": {},
     "output_type": "execute_result"
    }
   ],
   "source": [
    "docs[0][0].is_stop"
   ]
  },
  {
   "cell_type": "code",
   "execution_count": 18,
   "metadata": {},
   "outputs": [
    {
     "data": {
      "text/plain": [
       "(Doras,)"
      ]
     },
     "execution_count": 18,
     "metadata": {},
     "output_type": "execute_result"
    }
   ],
   "source": [
    "docs[0].ents"
   ]
  },
  {
   "cell_type": "code",
   "execution_count": 48,
   "metadata": {},
   "outputs": [
    {
     "data": {
      "text/plain": [
       "[The, new, Doras, cute, af]"
      ]
     },
     "execution_count": 48,
     "metadata": {},
     "output_type": "execute_result"
    }
   ],
   "source": [
    "list(docs[0])"
   ]
  },
  {
   "cell_type": "code",
   "execution_count": 56,
   "metadata": {},
   "outputs": [
    {
     "data": {
      "text/plain": [
       "'@'"
      ]
     },
     "execution_count": 56,
     "metadata": {},
     "output_type": "execute_result"
    }
   ],
   "source": [
    "docs[1][0].text[0]"
   ]
  },
  {
   "cell_type": "markdown",
   "metadata": {},
   "source": [
    "### Stopword removal\n",
    "\n",
    "*Stopwords* such as punctuations, very common words (such as *a*, *the*), or extra spaces\n",
    "generally only add noise.\n",
    "Removing them allows one to focus on less common and hopefully more important words.\n",
    "\n",
    "Here we remove also mentions (e.g. `@AOC`) and URLs."
   ]
  },
  {
   "cell_type": "code",
   "execution_count": 93,
   "metadata": {},
   "outputs": [],
   "source": [
    "def filter_punct_space_stop(doc):\n",
    "    filtered = []\n",
    "    for token in doc:\n",
    "        if (\n",
    "            token.is_stop\n",
    "            or token.is_punct\n",
    "            or token.is_space\n",
    "            or token.text.startswith(\"@\")\n",
    "            or token.text.startswith(\"https\")\n",
    "        ):\n",
    "            continue\n",
    "        filtered.append(token.text.lower())\n",
    "    return filtered"
   ]
  },
  {
   "cell_type": "code",
   "execution_count": 94,
   "metadata": {},
   "outputs": [
    {
     "data": {
      "text/plain": [
       "[['new', 'doras', 'cute', 'af'], []]"
      ]
     },
     "execution_count": 94,
     "metadata": {},
     "output_type": "execute_result"
    }
   ],
   "source": [
    "tokens_no_stopwords = list(map(filter_punct_space_stop, docs))\n",
    "tokens_no_stopwords[:2]"
   ]
  },
  {
   "cell_type": "code",
   "execution_count": 95,
   "metadata": {},
   "outputs": [
    {
     "data": {
      "text/plain": [
       "[4, 0, 3, 1, 3]"
      ]
     },
     "execution_count": 95,
     "metadata": {},
     "output_type": "execute_result"
    }
   ],
   "source": [
    "number_of_tokens = list(map(len, tokens_no_stopwords))\n",
    "number_of_tokens[:5]"
   ]
  },
  {
   "cell_type": "code",
   "execution_count": 96,
   "metadata": {},
   "outputs": [],
   "source": [
    "df['tokens'] = tokens_no_stopwords"
   ]
  },
  {
   "cell_type": "code",
   "execution_count": 97,
   "metadata": {},
   "outputs": [
    {
     "data": {
      "text/html": [
       "<div>\n",
       "<style scoped>\n",
       "    .dataframe tbody tr th:only-of-type {\n",
       "        vertical-align: middle;\n",
       "    }\n",
       "\n",
       "    .dataframe tbody tr th {\n",
       "        vertical-align: top;\n",
       "    }\n",
       "\n",
       "    .dataframe thead th {\n",
       "        text-align: right;\n",
       "    }\n",
       "</style>\n",
       "<table border=\"1\" class=\"dataframe\">\n",
       "  <thead>\n",
       "    <tr style=\"text-align: right;\">\n",
       "      <th></th>\n",
       "      <th>text</th>\n",
       "      <th>label</th>\n",
       "      <th>tokens</th>\n",
       "    </tr>\n",
       "  </thead>\n",
       "  <tbody>\n",
       "    <tr>\n",
       "      <td>0</td>\n",
       "      <td>The new Doras cute af</td>\n",
       "      <td>0</td>\n",
       "      <td>[new, doras, cute, af]</td>\n",
       "    </tr>\n",
       "    <tr>\n",
       "      <td>1</td>\n",
       "      <td>@minniemonikive well</td>\n",
       "      <td>0</td>\n",
       "      <td>[]</td>\n",
       "    </tr>\n",
       "    <tr>\n",
       "      <td>2</td>\n",
       "      <td>Rolou o skank</td>\n",
       "      <td>1</td>\n",
       "      <td>[rolou, o, skank]</td>\n",
       "    </tr>\n",
       "    <tr>\n",
       "      <td>3</td>\n",
       "      <td>@AOC https//t.co/lbNOwMK1p2</td>\n",
       "      <td>1</td>\n",
       "      <td>[lbnowmk1p2]</td>\n",
       "    </tr>\n",
       "    <tr>\n",
       "      <td>4</td>\n",
       "      <td>@tangletorn We will be killed by a snake 3</td>\n",
       "      <td>0</td>\n",
       "      <td>[killed, snake, 3]</td>\n",
       "    </tr>\n",
       "  </tbody>\n",
       "</table>\n",
       "</div>"
      ],
      "text/plain": [
       "                                         text  label                  tokens\n",
       "0                       The new Doras cute af      0  [new, doras, cute, af]\n",
       "1                        @minniemonikive well      0                      []\n",
       "2                               Rolou o skank      1       [rolou, o, skank]\n",
       "3                 @AOC https//t.co/lbNOwMK1p2      1            [lbnowmk1p2]\n",
       "4  @tangletorn We will be killed by a snake 3      0      [killed, snake, 3]"
      ]
     },
     "execution_count": 97,
     "metadata": {},
     "output_type": "execute_result"
    }
   ],
   "source": [
    "df.head()"
   ]
  },
  {
   "cell_type": "markdown",
   "metadata": {},
   "source": [
    "### Top words\n",
    "\n",
    "One can calculate the most common words in the tweets.\n",
    "This might highlight visible differences between misogynistic\n",
    "and non-misogynistic speech."
   ]
  },
  {
   "cell_type": "code",
   "execution_count": 98,
   "metadata": {},
   "outputs": [],
   "source": [
    "df_msgn = df[df['label']==1]\n",
    "df_non_msgn = df[df['label']==0]"
   ]
  },
  {
   "cell_type": "code",
   "execution_count": 99,
   "metadata": {},
   "outputs": [],
   "source": [
    "from collections import Counter"
   ]
  },
  {
   "cell_type": "code",
   "execution_count": 100,
   "metadata": {},
   "outputs": [],
   "source": [
    "count_msgn = Counter()"
   ]
  },
  {
   "cell_type": "code",
   "execution_count": 101,
   "metadata": {},
   "outputs": [],
   "source": [
    "for idx, toks in df_msgn['tokens'].iteritems():\n",
    "    for token in toks:\n",
    "        count_msgn[token] += 1"
   ]
  },
  {
   "cell_type": "code",
   "execution_count": 102,
   "metadata": {},
   "outputs": [
    {
     "data": {
      "text/plain": [
       "[('bitch', 9022),\n",
       " ('whore', 2620),\n",
       " ('nt', 2215),\n",
       " ('like', 2136),\n",
       " ('m', 1899),\n",
       " ('dyke', 1783),\n",
       " ('fucking', 1654),\n",
       " ('dirty', 1130),\n",
       " ('s', 1049),\n",
       " ('u', 958)]"
      ]
     },
     "execution_count": 102,
     "metadata": {},
     "output_type": "execute_result"
    }
   ],
   "source": [
    "count_msgn.most_common(10)"
   ]
  },
  {
   "cell_type": "code",
   "execution_count": 103,
   "metadata": {},
   "outputs": [],
   "source": [
    "count_non_msgn = Counter()"
   ]
  },
  {
   "cell_type": "code",
   "execution_count": 104,
   "metadata": {},
   "outputs": [],
   "source": [
    "for idx, toks in df_non_msgn['tokens'].iteritems():\n",
    "    for token in toks:\n",
    "        count_non_msgn[token] += 1"
   ]
  },
  {
   "cell_type": "code",
   "execution_count": 105,
   "metadata": {},
   "outputs": [
    {
     "data": {
      "text/plain": [
       "[('killed', 1937),\n",
       " ('dirty', 1473),\n",
       " ('nt', 1233),\n",
       " ('people', 1054),\n",
       " ('like', 942),\n",
       " ('trump', 704),\n",
       " ('amp', 599),\n",
       " ('know', 533),\n",
       " ('right', 516),\n",
       " ('s', 485)]"
      ]
     },
     "execution_count": 105,
     "metadata": {},
     "output_type": "execute_result"
    }
   ],
   "source": [
    "count_non_msgn.most_common(10)"
   ]
  },
  {
   "cell_type": "code",
   "execution_count": null,
   "metadata": {},
   "outputs": [],
   "source": []
  },
  {
   "cell_type": "code",
   "execution_count": 106,
   "metadata": {},
   "outputs": [],
   "source": [
    "# Here order is important\n",
    "labels = (\"Misogyny\", \"No Misogyny\")\n",
    "counters = (count_msgn, count_non_msgn)\n",
    "most_common = {}\n",
    "for label, counter in zip(labels, counters):\n",
    "    most_common[label] = {}\n",
    "    most_common[label]['total_number_of_words'] = len(counter)\n",
    "    most_common[label]['top_words'] = [w for (w, c) in counter.most_common(10)]\n",
    "    most_common[label]['counts'] = [c for (w, c) in counter.most_common(10)]"
   ]
  },
  {
   "cell_type": "code",
   "execution_count": 107,
   "metadata": {},
   "outputs": [
    {
     "data": {
      "text/plain": [
       "{'Misogyny': {'total_number_of_words': 29526,\n",
       "  'top_words': ['bitch',\n",
       "   'whore',\n",
       "   'nt',\n",
       "   'like',\n",
       "   'm',\n",
       "   'dyke',\n",
       "   'fucking',\n",
       "   'dirty',\n",
       "   's',\n",
       "   'u'],\n",
       "  'counts': [9022, 2620, 2215, 2136, 1899, 1783, 1654, 1130, 1049, 958]},\n",
       " 'No Misogyny': {'total_number_of_words': 21862,\n",
       "  'top_words': ['killed',\n",
       "   'dirty',\n",
       "   'nt',\n",
       "   'people',\n",
       "   'like',\n",
       "   'trump',\n",
       "   'amp',\n",
       "   'know',\n",
       "   'right',\n",
       "   's'],\n",
       "  'counts': [1937, 1473, 1233, 1054, 942, 704, 599, 533, 516, 485]}}"
      ]
     },
     "execution_count": 107,
     "metadata": {},
     "output_type": "execute_result"
    }
   ],
   "source": [
    "most_common"
   ]
  },
  {
   "cell_type": "code",
   "execution_count": 108,
   "metadata": {},
   "outputs": [
    {
     "data": {
      "image/png": "[encoded data removed]",
      "text/plain": [
       "<Figure size 432x432 with 2 Axes>"
      ]
     },
     "metadata": {
      "needs_background": "light"
     },
     "output_type": "display_data"
    }
   ],
   "source": [
    "fig, axes = plt.subplots(2, 1, sharex=True, figsize=(6, 6))\n",
    "for label, ax in zip(labels, axes):\n",
    "    ax.set_title(label)\n",
    "    word_ratio = np.array(most_common[label]['counts']) / most_common[label]['total_number_of_words']\n",
    "    ax.barh(most_common[label]['top_words'], word_ratio);\n",
    "plt.tight_layout()"
   ]
  },
  {
   "cell_type": "markdown",
   "metadata": {},
   "source": [
    "### Wordcloud"
   ]
  },
  {
   "cell_type": "code",
   "execution_count": 109,
   "metadata": {},
   "outputs": [],
   "source": [
    "from wordcloud import WordCloud"
   ]
  },
  {
   "cell_type": "code",
   "execution_count": 118,
   "metadata": {},
   "outputs": [
    {
     "data": {
      "image/png": "[encoded data removed]",
      "text/plain": [
       "<Figure size 864x576 with 2 Axes>"
      ]
     },
     "metadata": {
      "needs_background": "light"
     },
     "output_type": "display_data"
    }
   ],
   "source": [
    "fig, axes = plt.subplots(1, 2, sharex=True, figsize=(12, 8))\n",
    "for label, ax, frequencies in zip(labels, axes, counters):\n",
    "    ax.set_title(label)\n",
    "    ax.xaxis.set_visible(False)\n",
    "    ax.yaxis.set_visible(False)\n",
    "    wc = WordCloud(background_color='white').generate_from_frequencies(\n",
    "        frequencies,\n",
    "    )\n",
    "    ax.imshow(wc)\n",
    "plt.tight_layout()"
   ]
  },
  {
   "cell_type": "markdown",
   "metadata": {},
   "source": [
    "### Tweets length\n",
    "\n",
    "Here we compare the length of tweets measured as their total number of characters.\n",
    "The histograms show a normalized density."
   ]
  },
  {
   "cell_type": "code",
   "execution_count": 113,
   "metadata": {},
   "outputs": [
    {
     "data": {
      "image/png": "[encoded data removed]",
      "text/plain": [
       "<Figure size 432x288 with 1 Axes>"
      ]
     },
     "metadata": {
      "needs_background": "light"
     },
     "output_type": "display_data"
    }
   ],
   "source": [
    "plt.hist(df_msgn['tokens'].apply(len), density=True, alpha=.5, label=\"Misogyny\")\n",
    "plt.hist(df_non_msgn['tokens'].apply(len), density=True, alpha=.5, label=\"No Misogyny\")\n",
    "plt.yscale('log')\n",
    "plt.legend();"
   ]
  },
  {
   "cell_type": "markdown",
   "metadata": {},
   "source": [
    "It looks like misogynistic tweets tend to use more characters."
   ]
  },
  {
   "cell_type": "markdown",
   "metadata": {},
   "source": [
    "### Vectors"
   ]
  },
  {
   "cell_type": "code",
   "execution_count": 124,
   "metadata": {},
   "outputs": [
    {
     "data": {
      "text/plain": [
       "(300,)"
      ]
     },
     "execution_count": 124,
     "metadata": {},
     "output_type": "execute_result"
    }
   ],
   "source": [
    "docs[0].vector.shape"
   ]
  },
  {
   "cell_type": "code",
   "execution_count": null,
   "metadata": {},
   "outputs": [],
   "source": []
  },
  {
   "cell_type": "code",
   "execution_count": 42,
   "metadata": {},
   "outputs": [
    {
     "data": {
      "text/plain": [
       "[The, new, Doras, cute, af]"
      ]
     },
     "execution_count": 42,
     "metadata": {},
     "output_type": "execute_result"
    }
   ],
   "source": [
    "[token for token in docs[0]]"
   ]
  },
  {
   "cell_type": "code",
   "execution_count": 119,
   "metadata": {},
   "outputs": [
    {
     "data": {
      "text/plain": [
       "['nsubj',\n",
       " 'ROOT',\n",
       " 'xcomp',\n",
       " 'dobj',\n",
       " 'oprd',\n",
       " 'cc',\n",
       " 'conj',\n",
       " 'punct',\n",
       " 'nsubj',\n",
       " 'case',\n",
       " 'cc',\n",
       " 'conj',\n",
       " 'dobj',\n",
       " 'quantmod',\n",
       " 'nummod',\n",
       " 'npadvmod',\n",
       " 'aux',\n",
       " 'neg',\n",
       " 'ROOT',\n",
       " 'dobj',\n",
       " 'advmod',\n",
       " 'punct',\n",
       " 'ROOT']"
      ]
     },
     "execution_count": 119,
     "metadata": {},
     "output_type": "execute_result"
    }
   ],
   "source": [
    "[token.dep_ for token in docs[1]]"
   ]
  },
  {
   "cell_type": "code",
   "execution_count": 108,
   "metadata": {},
   "outputs": [],
   "source": [
    "t = [token for token in docs[0]][0]"
   ]
  },
  {
   "cell_type": "code",
   "execution_count": 109,
   "metadata": {},
   "outputs": [
    {
     "data": {
      "text/plain": [
       "these"
      ]
     },
     "execution_count": 109,
     "metadata": {},
     "output_type": "execute_result"
    }
   ],
   "source": [
    "t"
   ]
  },
  {
   "cell_type": "code",
   "execution_count": 110,
   "metadata": {},
   "outputs": [
    {
     "data": {
      "text/plain": [
       "[two, are]"
      ]
     },
     "execution_count": 110,
     "metadata": {},
     "output_type": "execute_result"
    }
   ],
   "source": [
    "list(t.ancestors)"
   ]
  },
  {
   "cell_type": "code",
   "execution_count": 113,
   "metadata": {},
   "outputs": [
    {
     "data": {
      "text/plain": [
       "'det'"
      ]
     },
     "execution_count": 113,
     "metadata": {},
     "output_type": "execute_result"
    }
   ],
   "source": [
    "t.dep_"
   ]
  },
  {
   "cell_type": "code",
   "execution_count": null,
   "metadata": {},
   "outputs": [],
   "source": []
  },
  {
   "cell_type": "code",
   "execution_count": null,
   "metadata": {},
   "outputs": [],
   "source": []
  },
  {
   "cell_type": "markdown",
   "metadata": {},
   "source": [
    "## Old stuff below"
   ]
  },
  {
   "cell_type": "code",
   "execution_count": 44,
   "metadata": {
    "pycharm": {
     "is_executing": false
    }
   },
   "outputs": [
    {
     "name": "stdout",
     "output_type": "stream",
     "text": [
      "CPU times: user 120 ms, sys: 0 ns, total: 120 ms\n",
      "Wall time: 118 ms\n"
     ]
    }
   ],
   "source": [
    "%%time\n",
    "# data['docs'] = create_spacy_docs(data, \"text\")\n",
    "data['docs'] = docs"
   ]
  },
  {
   "cell_type": "code",
   "execution_count": 45,
   "metadata": {
    "pycharm": {
     "is_executing": false
    }
   },
   "outputs": [
    {
     "name": "stdout",
     "output_type": "stream",
     "text": [
      "CPU times: user 1.13 ms, sys: 7.91 ms, total: 9.04 ms\n",
      "Wall time: 7.44 ms\n"
     ]
    }
   ],
   "source": [
    "%%time\n",
    "misogynistic_docs = data.loc[data.loc[:,'label'] == 1, \"docs\"]\n",
    "non_misogynistic_docs = data.loc[data.loc[:,'label'] == 0, \"docs\"]"
   ]
  },
  {
   "cell_type": "code",
   "execution_count": 46,
   "metadata": {
    "pycharm": {
     "is_executing": false
    }
   },
   "outputs": [
    {
     "name": "stdout",
     "output_type": "stream",
     "text": [
      "CPU times: user 14.9 ms, sys: 3.83 ms, total: 18.8 ms\n",
      "Wall time: 17.6 ms\n"
     ]
    }
   ],
   "source": [
    "%%time\n",
    "number_of_words_in_misogynistic = sum([len(doc) for doc  in misogynistic_docs])\n",
    "number_of_words_in_non_misogynistic = sum([len(doc) for doc  in non_misogynistic_docs])"
   ]
  },
  {
   "cell_type": "code",
   "execution_count": 47,
   "metadata": {},
   "outputs": [
    {
     "data": {
      "text/plain": [
       "these two are revolting  2015"
      ]
     },
     "execution_count": 47,
     "metadata": {},
     "output_type": "execute_result"
    }
   ],
   "source": [
    "data['docs'].iloc[0]"
   ]
  },
  {
   "cell_type": "code",
   "execution_count": null,
   "metadata": {
    "pycharm": {
     "is_executing": false,
     "name": "#%%\n"
    }
   },
   "outputs": [],
   "source": []
  },
  {
   "cell_type": "code",
   "execution_count": 48,
   "metadata": {
    "pycharm": {
     "is_executing": false
    }
   },
   "outputs": [
    {
     "name": "stdout",
     "output_type": "stream",
     "text": [
      "CPU times: user 2min 40s, sys: 209 ms, total: 2min 40s\n",
      "Wall time: 2min 40s\n"
     ]
    }
   ],
   "source": [
    "%%time\n",
    "data['stopwords'] = data['text'].apply(remove_stopwords)\n",
    "data['stopwords_docs'] = create_spacy_docs(data, \"stopwords\")"
   ]
  },
  {
   "cell_type": "code",
   "execution_count": 49,
   "metadata": {
    "pycharm": {
     "is_executing": false
    }
   },
   "outputs": [
    {
     "name": "stdout",
     "output_type": "stream",
     "text": [
      "CPU times: user 7.81 s, sys: 0 ns, total: 7.81 s\n",
      "Wall time: 7.81 s\n"
     ]
    }
   ],
   "source": [
    "%%time\n",
    "stop_misogynistic_docs = data.loc[data.loc[:,'label'] == 1, \"stopwords_docs\"]\n",
    "stop_non_misogynistic_docs = data.loc[data.loc[:,'label'] == 0, \"stopwords_docs\"]\n",
    "\n",
    "number_of_words_in_misogynistic_stop = sum([len(doc) for doc  in stop_misogynistic_docs])\n",
    "number_of_words_in_non_misogynistic_stop = sum([len(doc) for doc  in stop_non_misogynistic_docs])\n",
    "\n",
    "misogynistic_common_nouns = pd.DataFrame(find_most_common_nouns(stop_misogynistic_docs), columns=['noun', 'count'])\n",
    "non_misogynistic_common_nouns = pd.DataFrame(find_most_common_nouns(stop_non_misogynistic_docs), columns=['noun', 'count'])\n",
    "\n",
    "misogynistic_common_nouns['count'] = misogynistic_common_nouns['count']/number_of_words_in_misogynistic_stop\n",
    "non_misogynistic_common_nouns['count'] = non_misogynistic_common_nouns['count']/number_of_words_in_non_misogynistic_stop"
   ]
  },
  {
   "cell_type": "code",
   "execution_count": 50,
   "metadata": {},
   "outputs": [
    {
     "data": {
      "text/html": [
       "<div>\n",
       "<style scoped>\n",
       "    .dataframe tbody tr th:only-of-type {\n",
       "        vertical-align: middle;\n",
       "    }\n",
       "\n",
       "    .dataframe tbody tr th {\n",
       "        vertical-align: top;\n",
       "    }\n",
       "\n",
       "    .dataframe thead th {\n",
       "        text-align: right;\n",
       "    }\n",
       "</style>\n",
       "<table border=\"1\" class=\"dataframe\">\n",
       "  <thead>\n",
       "    <tr style=\"text-align: right;\">\n",
       "      <th></th>\n",
       "      <th>noun</th>\n",
       "      <th>count</th>\n",
       "    </tr>\n",
       "  </thead>\n",
       "  <tbody>\n",
       "    <tr>\n",
       "      <td>0</td>\n",
       "      <td>i</td>\n",
       "      <td>0.016001</td>\n",
       "    </tr>\n",
       "    <tr>\n",
       "      <td>1</td>\n",
       "      <td>women</td>\n",
       "      <td>0.004099</td>\n",
       "    </tr>\n",
       "    <tr>\n",
       "      <td>2</td>\n",
       "      <td>it</td>\n",
       "      <td>0.002192</td>\n",
       "    </tr>\n",
       "    <tr>\n",
       "      <td>3</td>\n",
       "      <td>kat</td>\n",
       "      <td>0.002060</td>\n",
       "    </tr>\n",
       "    <tr>\n",
       "      <td>4</td>\n",
       "      <td>girls</td>\n",
       "      <td>0.001819</td>\n",
       "    </tr>\n",
       "    <tr>\n",
       "      <td>...</td>\n",
       "      <td>...</td>\n",
       "      <td>...</td>\n",
       "    </tr>\n",
       "    <tr>\n",
       "      <td>6302</td>\n",
       "      <td>man circumstances</td>\n",
       "      <td>0.000022</td>\n",
       "    </tr>\n",
       "    <tr>\n",
       "      <td>6303</td>\n",
       "      <td>there.(well</td>\n",
       "      <td>0.000022</td>\n",
       "    </tr>\n",
       "    <tr>\n",
       "      <td>6304</td>\n",
       "      <td>walk</td>\n",
       "      <td>0.000022</td>\n",
       "    </tr>\n",
       "    <tr>\n",
       "      <td>6305</td>\n",
       "      <td>false \"rape culture\" crisis amp</td>\n",
       "      <td>0.000022</td>\n",
       "    </tr>\n",
       "    <tr>\n",
       "      <td>6306</td>\n",
       "      <td>mr_brighteyes</td>\n",
       "      <td>0.000022</td>\n",
       "    </tr>\n",
       "  </tbody>\n",
       "</table>\n",
       "<p>6307 rows × 2 columns</p>\n",
       "</div>"
      ],
      "text/plain": [
       "                                 noun     count\n",
       "0                                   i  0.016001\n",
       "1                               women  0.004099\n",
       "2                                  it  0.002192\n",
       "3                                 kat  0.002060\n",
       "4                               girls  0.001819\n",
       "...                               ...       ...\n",
       "6302                man circumstances  0.000022\n",
       "6303                      there.(well  0.000022\n",
       "6304                             walk  0.000022\n",
       "6305  false \"rape culture\" crisis amp  0.000022\n",
       "6306                    mr_brighteyes  0.000022\n",
       "\n",
       "[6307 rows x 2 columns]"
      ]
     },
     "execution_count": 50,
     "metadata": {},
     "output_type": "execute_result"
    }
   ],
   "source": [
    "misogynistic_common_nouns"
   ]
  },
  {
   "cell_type": "code",
   "execution_count": 51,
   "metadata": {
    "pycharm": {
     "is_executing": false
    }
   },
   "outputs": [
    {
     "data": {
      "image/png": "[encoded data removed]",
      "text/plain": [
       "<Figure size 360x360 with 2 Axes>"
      ]
     },
     "metadata": {
      "needs_background": "light"
     },
     "output_type": "display_data"
    }
   ],
   "source": [
    "top_10_misogynistic = misogynistic_common_nouns.loc[0:10, :]\n",
    "top_10_non_misogynistic = non_misogynistic_common_nouns.loc[0:10, :]\n",
    "\n",
    "fig, ax = plt.subplots(ncols=2, sharey=True, figsize=(5,5))\n",
    "misogynistic = sns.barplot(x=top_10_misogynistic['noun'], y=top_10_misogynistic['count'], ax=ax[0])\n",
    "non_misogynistic = sns.barplot(x=top_10_non_misogynistic['noun'], y=top_10_non_misogynistic['count'], ax=ax[1])\n",
    "ax[0].set_title(\"Misogyny\")\n",
    "ax[1].set_title(\"Non Misogyny\")\n",
    "\n",
    "def rotate_ticks(graph1, graph2):\n",
    "    for item1, item2 in zip(graph1.get_xticklabels(), graph2.get_xticklabels()):\n",
    "        item1.set_rotation(90)\n",
    "        item2.set_rotation(90)\n",
    "\n",
    "rotate_ticks(misogynistic,non_misogynistic)\n",
    "\n",
    "# plt.savefig(fig_path+\"top_10_common_nouns_total_corpus.png\")\n",
    "# plt.show()\n"
   ]
  },
  {
   "cell_type": "code",
   "execution_count": 54,
   "metadata": {
    "pycharm": {
     "is_executing": false
    }
   },
   "outputs": [
    {
     "data": {
      "image/png": "[encoded data removed]",
      "text/plain": [
       "<Figure size 432x288 with 1 Axes>"
      ]
     },
     "metadata": {
      "needs_background": "light"
     },
     "output_type": "display_data"
    }
   ],
   "source": [
    "data['tweet_length'] = data[\"text\"].apply(lambda tweet: len(tweet))\n",
    "data.groupby('label').mean()['tweet_length']\n",
    "\n",
    "sns.distplot(data.loc[data.loc[:,'label'] == 1, \"tweet_length\"]/number_of_words_in_misogynistic, kde=False, label=\"Misogynistic\")\n",
    "sns.distplot(data.loc[data.loc[:,'label'] == 0, \"tweet_length\"]/number_of_words_in_non_misogynistic, kde=False, label=\"Not misogynistic\")\n",
    "\n",
    "# plt.savefig(fig_path+\"tweet_length_total_corpus.png\")\n",
    "\n",
    "plt.legend();"
   ]
  },
  {
   "cell_type": "code",
   "execution_count": 94,
   "metadata": {
    "pycharm": {
     "is_executing": false
    }
   },
   "outputs": [
    {
     "data": {
      "image/png": "[encoded data removed]",
      "text/plain": [
       "<Figure size 360x360 with 2 Axes>"
      ]
     },
     "metadata": {
      "needs_background": "light"
     },
     "output_type": "display_data"
    }
   ],
   "source": [
    "top_10_misogynistic_pos, top_10_non_misogynistic_pos = compare(part_of_speech_frequency, misogynistic_docs, non_misogynistic_docs)\n",
    "top_10_misogynistic_pos['count'] = top_10_misogynistic_pos['count']/number_of_words_in_misogynistic\n",
    "top_10_non_misogynistic_pos['count'] = top_10_non_misogynistic_pos['count']/number_of_words_in_non_misogynistic\n",
    "\n",
    "fig, ax = plt.subplots(ncols=2, sharey=True, figsize=(5,5))\n",
    "misogynistic = sns.barplot(x=top_10_misogynistic_pos[part_of_speech_frequency.__name__], y=top_10_misogynistic_pos['count'], ax=ax[0])\n",
    "non_misogynistic = sns.barplot(x=top_10_non_misogynistic_pos[part_of_speech_frequency.__name__], y=top_10_non_misogynistic_pos['count'], ax=ax[1])\n",
    "\n",
    "ax[0].set_title(\"Misogyny\")\n",
    "ax[1].set_title(\"Non Misogyny\")\n",
    "\n",
    "rotate_ticks(misogynistic, non_misogynistic)    \n",
    "# plt.savefig(fig_path+\"pos_frequency_total_corpus.png\")\n",
    "# plt.show()"
   ]
  },
  {
   "cell_type": "code",
   "execution_count": 130,
   "metadata": {
    "pycharm": {
     "is_executing": false,
     "name": "#%%\n"
    }
   },
   "outputs": [
    {
     "data": {
      "image/png": "[encoded data removed]",
      "text/plain": [
       "<Figure size 360x360 with 2 Axes>"
      ]
     },
     "metadata": {
      "needs_background": "light"
     },
     "output_type": "display_data"
    }
   ],
   "source": [
    "top_10_misogynistic_dep, top_10_non_misogynistic_dep = compare(syntactic_dependency_frequency, misogynistic_docs, non_misogynistic_docs)\n",
    "\n",
    "fig, ax = plt.subplots(ncols=2, sharey=True, figsize=(5,5))\n",
    "misogynistic = sns.barplot(x=top_10_misogynistic_dep[syntactic_dependency_frequency.__name__], y=top_10_misogynistic_dep['count'], ax=ax[0])\n",
    "non_misogynistic = sns.barplot(x=top_10_non_misogynistic_dep[syntactic_dependency_frequency.__name__], y=top_10_non_misogynistic_dep['count'], ax=ax[1])\n",
    "\n",
    "ax[0].set_title(\"Misogyny\")\n",
    "ax[1].set_title(\"Non Misogyny\")\n",
    "\n",
    "rotate_ticks(misogynistic, non_misogynistic)  \n",
    "# plt.savefig(fig_path+\"syntactic_frequency_total_corpus.png\")   \n",
    "\n",
    "# plt.show()"
   ]
  },
  {
   "cell_type": "code",
   "execution_count": 136,
   "metadata": {},
   "outputs": [
    {
     "data": {
      "text/plain": [
       "429"
      ]
     },
     "execution_count": 136,
     "metadata": {},
     "output_type": "execute_result"
    }
   ],
   "source": [
    "nsubj"
   ]
  },
  {
   "cell_type": "code",
   "execution_count": 131,
   "metadata": {
    "pycharm": {
     "is_executing": false,
     "name": "#%%\n"
    },
    "scrolled": true
   },
   "outputs": [
    {
     "name": "stdout",
     "output_type": "stream",
     "text": [
      "Verbs Men\n",
      "Verbs Women\n"
     ]
    },
    {
     "name": "stderr",
     "output_type": "stream",
     "text": [
      "/home/guzzo/anaconda3/envs/find-out/lib/python3.7/site-packages/pandas/core/strings.py:1843: UserWarning: This pattern has match groups. To actually get the groups, use str.extract.\n",
      "  return func(self, *args, **kwargs)\n"
     ]
    },
    {
     "data": {
      "text/plain": [
       "{'s,\n",
       " need,\n",
       " speak,\n",
       " hide,\n",
       " care,\n",
       " being,\n",
       " been,\n",
       " give,\n",
       " needed,\n",
       " are,\n",
       " stay,\n",
       " understand,\n",
       " are,\n",
       " were,\n",
       " is,\n",
       " give,\n",
       " offer,\n",
       " are,\n",
       " have,\n",
       " break,\n",
       " was,\n",
       " know,\n",
       " is,\n",
       " rips,\n",
       " are,\n",
       " are,\n",
       " be,\n",
       " are,\n",
       " feel,\n",
       " are,\n",
       " write,\n",
       " driving,\n",
       " gets,\n",
       " rap,\n",
       " disagree,\n",
       " face,\n",
       " let,\n",
       " ruled,\n",
       " have,\n",
       " be,\n",
       " marries,\n",
       " make,\n",
       " have,\n",
       " be,\n",
       " being,\n",
       " had,\n",
       " do,\n",
       " being,\n",
       " drive,\n",
       " have,\n",
       " need,\n",
       " died,\n",
       " are,\n",
       " lack,\n",
       " are,\n",
       " have,\n",
       " said,\n",
       " fighting,\n",
       " have,\n",
       " shame,\n",
       " argue,\n",
       " joke,\n",
       " decide,\n",
       " do,\n",
       " are,\n",
       " have,\n",
       " talk,\n",
       " seem,\n",
       " have,\n",
       " tend,\n",
       " are,\n",
       " wants,\n",
       " have,\n",
       " paicipate,\n",
       " talk,\n",
       " have,\n",
       " drive,\n",
       " have,\n",
       " explains,\n",
       " call,\n",
       " wear,\n",
       " get,\n",
       " stay,\n",
       " take,\n",
       " cook,\n",
       " familiarise,\n",
       " know,\n",
       " is,\n",
       " having,\n",
       " are,\n",
       " have,\n",
       " living,\n",
       " suck,\n",
       " be,\n",
       " play,\n",
       " are,\n",
       " control,\n",
       " need,\n",
       " is,\n",
       " see,\n",
       " ran,\n",
       " do,\n",
       " want,\n",
       " presents,\n",
       " proposing,\n",
       " look,\n",
       " prefer,\n",
       " exist,\n",
       " make,\n",
       " belong,\n",
       " drive,\n",
       " talks,\n",
       " taking,\n",
       " have,\n",
       " help,\n",
       " are,\n",
       " be,\n",
       " knowing,\n",
       " are,\n",
       " are,\n",
       " being,\n",
       " play,\n",
       " driving,\n",
       " play,\n",
       " fall,\n",
       " internalized,\n",
       " paicipating,\n",
       " did,\n",
       " play,\n",
       " have,\n",
       " assaulted,\n",
       " fights,\n",
       " drive,\n",
       " stand,\n",
       " trying,\n",
       " stick,\n",
       " are,\n",
       " work,\n",
       " are,\n",
       " play,\n",
       " drive,\n",
       " be,\n",
       " is,\n",
       " announcing,\n",
       " drive,\n",
       " are,\n",
       " be,\n",
       " have,\n",
       " commentate,\n",
       " treated,\n",
       " play,\n",
       " are,\n",
       " becoming,\n",
       " are,\n",
       " be,\n",
       " play,\n",
       " are,\n",
       " have,\n",
       " suck,\n",
       " be,\n",
       " sounds,\n",
       " scored,\n",
       " poop,\n",
       " want,\n",
       " is,\n",
       " be,\n",
       " love,\n",
       " drive,\n",
       " need,\n",
       " are,\n",
       " drive,\n",
       " is,\n",
       " sue,\n",
       " wear,\n",
       " are,\n",
       " play,\n",
       " are,\n",
       " commentating,\n",
       " are,\n",
       " rapper,\n",
       " are,\n",
       " treated,\n",
       " scare,\n",
       " know,\n",
       " knows,\n",
       " suck,\n",
       " drive,\n",
       " hold,\n",
       " make,\n",
       " speaking,\n",
       " want,\n",
       " drive,\n",
       " roll,\n",
       " going,\n",
       " fought,\n",
       " belong,\n",
       " drive,\n",
       " kick,\n",
       " want,\n",
       " choose,\n",
       " announcing,\n",
       " acused,\n",
       " are,\n",
       " have,\n",
       " get,\n",
       " drive,\n",
       " have,\n",
       " commentating,\n",
       " doing,\n",
       " drive,\n",
       " talk,\n",
       " was,\n",
       " surprises,\n",
       " has,\n",
       " taking,\n",
       " do,\n",
       " becoming,\n",
       " be,\n",
       " drive,\n",
       " do,\n",
       " have,\n",
       " is,\n",
       " do,\n",
       " is,\n",
       " are,\n",
       " care,\n",
       " are,\n",
       " need,\n",
       " have,\n",
       " are,\n",
       " are,\n",
       " park,\n",
       " have,\n",
       " convicted,\n",
       " look,\n",
       " perform,\n",
       " created,\n",
       " are,\n",
       " knows,\n",
       " created,\n",
       " stop,\n",
       " are,\n",
       " make,\n",
       " want,\n",
       " are,\n",
       " play,\n",
       " needs,\n",
       " are,\n",
       " be,\n",
       " is,\n",
       " piss,\n",
       " lacking,\n",
       " has,\n",
       " tell,\n",
       " sing,\n",
       " are,\n",
       " scream,\n",
       " make,\n",
       " get,\n",
       " appealing,\n",
       " is,\n",
       " announce,\n",
       " shave,\n",
       " are,\n",
       " played,\n",
       " being,\n",
       " are,\n",
       " are,\n",
       " know,\n",
       " is,\n",
       " drive,\n",
       " scare,\n",
       " are,\n",
       " stop,\n",
       " be,\n",
       " be,\n",
       " joke,\n",
       " are,\n",
       " are,\n",
       " playing,\n",
       " do,\n",
       " are,\n",
       " operate,\n",
       " stay,\n",
       " driving,\n",
       " be,\n",
       " forced,\n",
       " do,\n",
       " drive,\n",
       " want,\n",
       " look,\n",
       " stay,\n",
       " work,\n",
       " driving,\n",
       " get,\n",
       " are,\n",
       " play,\n",
       " talk,\n",
       " are,\n",
       " cast,\n",
       " are,\n",
       " make,\n",
       " face,\n",
       " get,\n",
       " murder,\n",
       " looking,\n",
       " referees,\n",
       " are,\n",
       " are,\n",
       " are,\n",
       " end,\n",
       " mixing,\n",
       " is,\n",
       " call,\n",
       " were,\n",
       " have,\n",
       " is,\n",
       " driving,\n",
       " solve,\n",
       " are,\n",
       " belong,\n",
       " reverse,\n",
       " are,\n",
       " tweet,\n",
       " let,\n",
       " argue,\n",
       " telecast,\n",
       " doing,\n",
       " driving,\n",
       " know,\n",
       " outperform,\n",
       " are,\n",
       " commentate,\n",
       " say,\n",
       " is,\n",
       " are,\n",
       " speak,\n",
       " is,\n",
       " fight,\n",
       " expect,\n",
       " embrace,\n",
       " create,\n",
       " agree,\n",
       " lack,\n",
       " drive,\n",
       " stay,\n",
       " spend,\n",
       " been,\n",
       " is,\n",
       " choose,\n",
       " are,\n",
       " are,\n",
       " are,\n",
       " drive,\n",
       " drive,\n",
       " have,\n",
       " changed,\n",
       " take,\n",
       " say,\n",
       " gained,\n",
       " does,\n",
       " have,\n",
       " is,\n",
       " download,\n",
       " are,\n",
       " explaining,\n",
       " be,\n",
       " are,\n",
       " ca,\n",
       " are,\n",
       " cann,\n",
       " lying,\n",
       " nev,\n",
       " face,\n",
       " havi}"
      ]
     },
     "execution_count": 131,
     "metadata": {},
     "output_type": "execute_result"
    }
   ],
   "source": [
    "nsubj_verbs = verb_noun_syntactic_relation(data['docs'], nsubj)  \n",
    "df_nsubj = pd.DataFrame(nsubj_verbs, columns=[\"subject\", \"head_verb\"])\n",
    "print(\"Verbs Men\")\n",
    "set(df_nsubj[df_nsubj['subject'].str.contains(r\"\\b(man|men)\\b\")]['head_verb'].to_list())\n",
    "print(\"Verbs Women\")\n",
    "set(df_nsubj[df_nsubj['subject'].str.contains(r\"\\b(woman|women)\\b\")]['head_verb'].to_list())"
   ]
  },
  {
   "cell_type": "code",
   "execution_count": 122,
   "metadata": {},
   "outputs": [
    {
     "data": {
      "text/html": [
       "<div>\n",
       "<style scoped>\n",
       "    .dataframe tbody tr th:only-of-type {\n",
       "        vertical-align: middle;\n",
       "    }\n",
       "\n",
       "    .dataframe tbody tr th {\n",
       "        vertical-align: top;\n",
       "    }\n",
       "\n",
       "    .dataframe thead th {\n",
       "        text-align: right;\n",
       "    }\n",
       "</style>\n",
       "<table border=\"1\" class=\"dataframe\">\n",
       "  <thead>\n",
       "    <tr style=\"text-align: right;\">\n",
       "      <th></th>\n",
       "      <th>subject</th>\n",
       "      <th>head_verb</th>\n",
       "    </tr>\n",
       "  </thead>\n",
       "  <tbody>\n",
       "    <tr>\n",
       "      <td>0</td>\n",
       "      <td>rolling</td>\n",
       "      <td>leaving</td>\n",
       "    </tr>\n",
       "    <tr>\n",
       "      <td>1</td>\n",
       "      <td>i</td>\n",
       "      <td>know</td>\n",
       "    </tr>\n",
       "    <tr>\n",
       "      <td>2</td>\n",
       "      <td>i</td>\n",
       "      <td>see</td>\n",
       "    </tr>\n",
       "    <tr>\n",
       "      <td>3</td>\n",
       "      <td>hostages</td>\n",
       "      <td>were</td>\n",
       "    </tr>\n",
       "    <tr>\n",
       "      <td>4</td>\n",
       "      <td>'s</td>\n",
       "      <td>face</td>\n",
       "    </tr>\n",
       "    <tr>\n",
       "      <td>...</td>\n",
       "      <td>...</td>\n",
       "      <td>...</td>\n",
       "    </tr>\n",
       "    <tr>\n",
       "      <td>23599</td>\n",
       "      <td>you</td>\n",
       "      <td>'re</td>\n",
       "    </tr>\n",
       "    <tr>\n",
       "      <td>23600</td>\n",
       "      <td>you</td>\n",
       "      <td>be</td>\n",
       "    </tr>\n",
       "    <tr>\n",
       "      <td>23601</td>\n",
       "      <td>i</td>\n",
       "      <td>admit</td>\n",
       "    </tr>\n",
       "    <tr>\n",
       "      <td>23602</td>\n",
       "      <td>i</td>\n",
       "      <td>planned</td>\n",
       "    </tr>\n",
       "    <tr>\n",
       "      <td>23603</td>\n",
       "      <td>drasko</td>\n",
       "      <td>trying</td>\n",
       "    </tr>\n",
       "  </tbody>\n",
       "</table>\n",
       "<p>23604 rows × 2 columns</p>\n",
       "</div>"
      ],
      "text/plain": [
       "        subject head_verb\n",
       "0       rolling   leaving\n",
       "1             i      know\n",
       "2             i       see\n",
       "3      hostages      were\n",
       "4            's      face\n",
       "...         ...       ...\n",
       "23599       you       're\n",
       "23600       you        be\n",
       "23601         i     admit\n",
       "23602         i   planned\n",
       "23603    drasko    trying\n",
       "\n",
       "[23604 rows x 2 columns]"
      ]
     },
     "execution_count": 122,
     "metadata": {},
     "output_type": "execute_result"
    }
   ],
   "source": [
    "df_nsubj"
   ]
  },
  {
   "cell_type": "code",
   "execution_count": 127,
   "metadata": {
    "pycharm": {
     "is_executing": false,
     "name": "#%%\n"
    }
   },
   "outputs": [],
   "source": [
    "nsubj_verbs, verbs, nouns = verb_noun_word_vectors(data['docs'], nsubj)"
   ]
  },
  {
   "cell_type": "code",
   "execution_count": 135,
   "metadata": {},
   "outputs": [
    {
     "data": {
      "text/plain": [
       "{('rolling', leaving),\n",
       " ('i', know),\n",
       " ('i', see),\n",
       " ('hostages', were),\n",
       " (\"'s\", face),\n",
       " ('people', need),\n",
       " ('you', 're),\n",
       " ('who', going),\n",
       " ('what', is),\n",
       " ('it', 's),\n",
       " ('andre', got),\n",
       " ('you', 're),\n",
       " ('you', cooked),\n",
       " ('karma', comes),\n",
       " ('who', announces),\n",
       " ('mikeofcc', slashing),\n",
       " ('night', go),\n",
       " ('’m', going),\n",
       " ('happiness', oppresses),\n",
       " ('it', 's),\n",
       " ('i', made),\n",
       " ('i', did),\n",
       " ('you', are),\n",
       " ('i', see),\n",
       " ('kat', is),\n",
       " ('i', announcing),\n",
       " ('i', swear),\n",
       " ('you', serving),\n",
       " ('it', is),\n",
       " ('tribe', steps),\n",
       " ('implementation', get),\n",
       " ('they', are),\n",
       " ('woman', play),\n",
       " ('they', are),\n",
       " ('i', need),\n",
       " ('tip', is),\n",
       " ('it', happened),\n",
       " ('world', is),\n",
       " ('mother', hoped),\n",
       " ('they', scored),\n",
       " ('it', 's),\n",
       " ('.', done),\n",
       " ('i', adore),\n",
       " ('vivek', got),\n",
       " ('it', go),\n",
       " ('algebra', came),\n",
       " ('i', thought),\n",
       " ('it', explain),\n",
       " ('i', hope),\n",
       " ('they', lace),\n",
       " ('that', provides),\n",
       " ('we', took),\n",
       " ('they', play),\n",
       " ('i', have),\n",
       " ('it', 's),\n",
       " ('that', 's),\n",
       " ('i', was),\n",
       " ('palestinians', defend),\n",
       " ('they', existed),\n",
       " ('challenge', separating),\n",
       " ('i', do),\n",
       " ('everybody', wants),\n",
       " ('you', come),\n",
       " ('yesyouresexist', is),\n",
       " ('reverse', moves),\n",
       " ('they', demonstrated),\n",
       " ('student', risks),\n",
       " ('we', verify),\n",
       " ('car', rocking),\n",
       " ('i', driving),\n",
       " ('you', are),\n",
       " ('countries', is),\n",
       " ('i', feel),\n",
       " ('house', is),\n",
       " ('you', 're),\n",
       " ('i', 'm),\n",
       " ('i', brush),\n",
       " ('you', accept),\n",
       " ('you', wait),\n",
       " ('they', are),\n",
       " ('policy', needs),\n",
       " ('i', thought),\n",
       " ('this', is),\n",
       " ('joelavaldez', is),\n",
       " ('i', hate),\n",
       " ('she', knows),\n",
       " ('she', staed),\n",
       " ('i', think),\n",
       " ('it', 's),\n",
       " ('i', vote),\n",
       " ('i', have),\n",
       " ('truth', revealed),\n",
       " ('women', forced),\n",
       " ('they', asked),\n",
       " ('you', 're),\n",
       " ('you', get),\n",
       " ('%', been),\n",
       " ('who', s),\n",
       " ('i', love),\n",
       " ('who', posted),\n",
       " ('i', bought),\n",
       " ('rape', is),\n",
       " ('i', need),\n",
       " ('lenovo', is),\n",
       " ('you', unfollow),\n",
       " ('it', 's),\n",
       " ('i', believe),\n",
       " ('that', is),\n",
       " ('mop', looks),\n",
       " ('i', wondering),\n",
       " ('name', was),\n",
       " (\"y'\", dressing),\n",
       " ('they', 're),\n",
       " ('we', have),\n",
       " ('we', missed),\n",
       " ('it', 's),\n",
       " ('i', saw),\n",
       " ('i', get),\n",
       " ('it', 's),\n",
       " ('who', love),\n",
       " ('people', are),\n",
       " ('i', 'm),\n",
       " ('we', talking),\n",
       " ('piece', is),\n",
       " ('u', fucking),\n",
       " ('you', see),\n",
       " ('that', 's),\n",
       " ('she', let),\n",
       " ('hitlersbihday', are),\n",
       " ('you', get),\n",
       " ('twitter', think),\n",
       " ('it', means),\n",
       " ('you', know),\n",
       " ('existence', is),\n",
       " ('kitchen', burns),\n",
       " ('i', thought),\n",
       " ('blondes', kill),\n",
       " ('aim', remained),\n",
       " ('annie', stop),\n",
       " ('victim', says),\n",
       " ('i', like),\n",
       " ('it', panders),\n",
       " ('feminists', trend),\n",
       " ('they', seem),\n",
       " ('she', does),\n",
       " ('most', looking),\n",
       " ('you', referring),\n",
       " ('i', 'm),\n",
       " ('this', is),\n",
       " ('i', have),\n",
       " ('they', running),\n",
       " ('whatever', comes),\n",
       " ('girls', complaining),\n",
       " ('they', are),\n",
       " ('that', relegates),\n",
       " ('you', mean),\n",
       " ('she', said),\n",
       " ('manu', stay),\n",
       " ('they', are),\n",
       " ('daesh', are),\n",
       " ('who', is),\n",
       " ('all', denotes),\n",
       " ('dude', uses),\n",
       " ('boy', looks),\n",
       " ('what', is),\n",
       " ('it', amazes),\n",
       " ('she', refused),\n",
       " ('isis', passed),\n",
       " ('they', say),\n",
       " ('girls', know),\n",
       " ('i', make),\n",
       " ('it', 's),\n",
       " ('producers', have),\n",
       " ('that', is),\n",
       " ('i', found),\n",
       " ('you', get),\n",
       " ('program', done),\n",
       " ('conf', become),\n",
       " ('same', applies),\n",
       " ('i', watch),\n",
       " ('that', 's),\n",
       " ('people', go),\n",
       " ('who', 's),\n",
       " ('that', staed),\n",
       " ('that', be),\n",
       " ('you', have),\n",
       " ('spacekatgal', received),\n",
       " ('docs', are),\n",
       " ('i', guessing),\n",
       " ('you', sound),\n",
       " ('slapping', be),\n",
       " ('i', accept),\n",
       " ('she', assumed),\n",
       " ('we', get),\n",
       " ('someone', needs),\n",
       " ('i', see),\n",
       " ('ypj', reached),\n",
       " ('i', done),\n",
       " ('andre', are),\n",
       " ('that', retweeted),\n",
       " ('filters', are),\n",
       " ('dad', is),\n",
       " ('it', 's),\n",
       " ('i', 'm),\n",
       " (\"'s\", get),\n",
       " ('it', be),\n",
       " ('olds', put),\n",
       " ('i', 'm),\n",
       " ('i', think),\n",
       " ('endorphin', rush),\n",
       " ('i', wonder),\n",
       " ('they', hand),\n",
       " ('it', gon),\n",
       " ('you', are),\n",
       " ('daesh', try),\n",
       " ('girls', dress),\n",
       " ('you', played),\n",
       " ('i', repeat),\n",
       " ('this', fly),\n",
       " ('place', is),\n",
       " ('girls', are),\n",
       " ('word', spreads),\n",
       " ('rape', is),\n",
       " ('we', know),\n",
       " ('i', got),\n",
       " ('you', blocked),\n",
       " ('brain', trying),\n",
       " ('daesh', running),\n",
       " ('carrots', look),\n",
       " ('i', figured),\n",
       " ('i', got),\n",
       " ('i', trust),\n",
       " ('i', read),\n",
       " ('we', say),\n",
       " ('feminists', make),\n",
       " ('i', hope),\n",
       " ('i', trying),\n",
       " ('i', stand),\n",
       " ('we', care),\n",
       " ('she', has),\n",
       " ('i', hear),\n",
       " ('you', mean),\n",
       " ('we', 're),\n",
       " ('i', need),\n",
       " ('33:33', say),\n",
       " ('i', shitposted),\n",
       " ('i', do),\n",
       " ('they', make),\n",
       " ('i', have),\n",
       " ('isis', engages),\n",
       " ('strikes', helped),\n",
       " ('it', be),\n",
       " ('bodies', are),\n",
       " ('kat', got),\n",
       " ('someone', tell),\n",
       " ('i', need),\n",
       " ('i', like),\n",
       " ('they', steal),\n",
       " ('kat', thinks),\n",
       " ('i', see),\n",
       " ('you', know),\n",
       " ('pie', 's),\n",
       " ('everyone', believe),\n",
       " ('i', come),\n",
       " ('book', exist),\n",
       " ('they', are),\n",
       " ('you', say),\n",
       " ('writers', tell),\n",
       " ('i', like),\n",
       " ('i', guess),\n",
       " ('nikki', looks),\n",
       " ('they', received),\n",
       " ('nobody', burns),\n",
       " ('correctness', trumps),\n",
       " ('4:34', say),\n",
       " ('gg', took),\n",
       " ('eyes', going),\n",
       " ('shanley', soa),\n",
       " ('she', is),\n",
       " ('that', was),\n",
       " ('emma', mention),\n",
       " ('i', using),\n",
       " ('it', counts),\n",
       " ('you', enjoy),\n",
       " ('who', is),\n",
       " ('lyn', left),\n",
       " ('panelrific', let),\n",
       " ('relativism', is),\n",
       " ('i', have),\n",
       " ('freebsd', running),\n",
       " ('you', ask),\n",
       " ('i', be),\n",
       " ('forces', freed),\n",
       " ('boycott', begins),\n",
       " ('people', view),\n",
       " ('claim', is),\n",
       " ('i', suspect),\n",
       " ('you', babbling),\n",
       " ('khaledhamaki', give),\n",
       " ('you', try),\n",
       " ('you', need),\n",
       " ('it', is),\n",
       " ('i', 'm),\n",
       " ('you', attack),\n",
       " ('contestants', score),\n",
       " ('iraq', vows),\n",
       " ('comment', convinces),\n",
       " ('tosser', is),\n",
       " ('thing', surrounds),\n",
       " ('i', meeting),\n",
       " ('freedom', is),\n",
       " ('i', stand),\n",
       " ('someone', has),\n",
       " ('that', talk),\n",
       " ('people', take),\n",
       " ('it', 's),\n",
       " ('aboion', is),\n",
       " ('egyptinparadise', love),\n",
       " ('you', continue),\n",
       " ('i', 'm),\n",
       " ('what', s),\n",
       " ('you', talk),\n",
       " ('4', saying),\n",
       " ('teacher', does),\n",
       " ('i', had),\n",
       " ('you', walk),\n",
       " ('that', 's),\n",
       " ('i', hanging),\n",
       " ('i', relate),\n",
       " ('i', go),\n",
       " ('you', claim),\n",
       " ('we', know),\n",
       " ('what', 's),\n",
       " ('meatballs', were),\n",
       " ('it', 's),\n",
       " ('whitehouse', avoids),\n",
       " ('i', say),\n",
       " ('gamergate', loves),\n",
       " ('it', seem),\n",
       " ('i', 'm),\n",
       " ('they', 're),\n",
       " ('i', have),\n",
       " ('i', go),\n",
       " ('barbarity', justifies),\n",
       " ('github', been),\n",
       " ('he', 's),\n",
       " ('device', works),\n",
       " ('that', 's),\n",
       " ('she', cheat),\n",
       " ('i', 'm),\n",
       " ('you', make),\n",
       " ('she', sounds),\n",
       " ('ya', know),\n",
       " ('you', following),\n",
       " ('chicks', are),\n",
       " ('shelters', serve),\n",
       " ('andre', stop),\n",
       " ('i', met),\n",
       " ('i', assuming),\n",
       " ('i', need),\n",
       " ('they', tell),\n",
       " ('they', depaed),\n",
       " ('i', drowning),\n",
       " ('they', are),\n",
       " ('i', think),\n",
       " ('that', fucking),\n",
       " ('i', love),\n",
       " ('it', was),\n",
       " ('anyone', is),\n",
       " ('options', are),\n",
       " ('you', are),\n",
       " ('i', want),\n",
       " ('i', feel),\n",
       " ('cuntandandre', are),\n",
       " ('yesallwomen', are),\n",
       " ('kat', going),\n",
       " ('i', am),\n",
       " ('you', iron),\n",
       " ('fygm', keeping),\n",
       " ('celine', does),\n",
       " ('allen', took),\n",
       " ('you', go),\n",
       " ('wadhwa', used),\n",
       " ('i', 'm),\n",
       " ('he', sounds),\n",
       " ('point', is),\n",
       " ('i', 'm),\n",
       " ('one', steps),\n",
       " ('woman', rapper),\n",
       " ('i', throw),\n",
       " ('i', betting),\n",
       " ('this', is),\n",
       " ('who', hate),\n",
       " ('contractor', do),\n",
       " ('which', end),\n",
       " ('acct', protected),\n",
       " ('i', hate),\n",
       " ('one', hus),\n",
       " ('leonardomaxwel1', did),\n",
       " ('i', have),\n",
       " ('strategy', working),\n",
       " ('speech', was),\n",
       " ('facts', come),\n",
       " ('they', crash),\n",
       " ('he', speaking),\n",
       " ('i', think),\n",
       " ('repo', is),\n",
       " ('i', wearing),\n",
       " ('you', seen),\n",
       " ('i', 'm),\n",
       " ('i', gave),\n",
       " ('people', understand),\n",
       " ('i', doubting),\n",
       " ('you', post),\n",
       " ('i', watching),\n",
       " ('isis', is),\n",
       " ('it', 's),\n",
       " ('they', have),\n",
       " ('joke', was),\n",
       " ('it', originated),\n",
       " ('i', think),\n",
       " ('idiots', believe),\n",
       " ('assignment', ret),\n",
       " ('you', 're),\n",
       " ('i', walk),\n",
       " ('girls', are),\n",
       " ('they', thought),\n",
       " ('muslims', try),\n",
       " ('you', deal),\n",
       " ('i', eating),\n",
       " ('it', 's),\n",
       " ('i', use),\n",
       " ('you', are),\n",
       " ('steve', thinks),\n",
       " ('you', block),\n",
       " ('kat', is),\n",
       " ('vivids', are),\n",
       " ('i', vote),\n",
       " ('i', 'm),\n",
       " ('figure', represents),\n",
       " ('i', 'm),\n",
       " ('we', know),\n",
       " ('sara771987', be),\n",
       " ('i', find),\n",
       " ('any', cook),\n",
       " ('driver', reverse),\n",
       " ('i', think),\n",
       " ('it', 's),\n",
       " ('me', be),\n",
       " ('stupidity', is),\n",
       " ('i', saw),\n",
       " ('i', 'm),\n",
       " ('everyone', opposes),\n",
       " ('show', jumped),\n",
       " ('vodage', untag),\n",
       " ('we', have),\n",
       " ('daesh', are),\n",
       " ('i', guess),\n",
       " ('they', enjoy),\n",
       " ('matters', does),\n",
       " ('you', are),\n",
       " ('i', have),\n",
       " ('lynn', disappointed),\n",
       " ('people', read),\n",
       " ('it', 's),\n",
       " ('this', is),\n",
       " ('i', talked),\n",
       " ('they', hide),\n",
       " ('i', advise),\n",
       " ('women', need),\n",
       " ('that', blocks),\n",
       " ('contestants', get),\n",
       " ('islam', tells),\n",
       " ('that', have),\n",
       " ('you', contributed),\n",
       " ('i', made),\n",
       " ('shit', is),\n",
       " ('you', think),\n",
       " ('teams', expecting),\n",
       " ('help', have),\n",
       " (\"'s\", get),\n",
       " ('daesh', destroys),\n",
       " ('globalcalgary', stop),\n",
       " ('one', cares),\n",
       " ('women', are),\n",
       " ('ease', is),\n",
       " ('oktar', find),\n",
       " ('who', believes),\n",
       " ('that', 's),\n",
       " ('that', is),\n",
       " ('religion', takes),\n",
       " ('i', realized),\n",
       " ('i', know),\n",
       " ('feminism', has),\n",
       " ('that', 's),\n",
       " ('dese', is),\n",
       " ('i', 'm),\n",
       " ('opinions', matter),\n",
       " ('boys', cook),\n",
       " ('two', working),\n",
       " ('it', makes),\n",
       " ('jira', continues),\n",
       " ('they', care),\n",
       " ('treadmills', are),\n",
       " ('it', 's),\n",
       " ('buellerishere', is),\n",
       " ('i', pay),\n",
       " ('lifting', is),\n",
       " ('meals', look),\n",
       " ('you', fucking),\n",
       " ('who', knows),\n",
       " ('you', lying),\n",
       " ('i', used),\n",
       " ('text', was),\n",
       " ('kat', is),\n",
       " ('men', harrass),\n",
       " ('i', had),\n",
       " ('i', want),\n",
       " ('they', know),\n",
       " ('you', stand),\n",
       " ('it', is),\n",
       " ('all', are),\n",
       " ('caliphfaggoti', lost),\n",
       " ('they', want),\n",
       " ('test', 's),\n",
       " ('i', 'm),\n",
       " ('they', suck),\n",
       " ('you', 're),\n",
       " ('one', existed),\n",
       " ('i', 'm),\n",
       " ('we', have),\n",
       " ('they', do),\n",
       " ('i', read),\n",
       " ('that', is),\n",
       " ('i', 'm),\n",
       " ('you', have),\n",
       " ('i', 'm),\n",
       " ('kat', fucking),\n",
       " ('selfies', are),\n",
       " ('they', behaving),\n",
       " ('i', am),\n",
       " ('you', think),\n",
       " ('aim', is),\n",
       " ('you', producing),\n",
       " ('i', hate),\n",
       " ('couple', are),\n",
       " ('women', are),\n",
       " ('this', is),\n",
       " ('i', 'm),\n",
       " ('i', asked),\n",
       " ('vivek', is),\n",
       " ('eggs', look),\n",
       " ('islam', had),\n",
       " ('mccain', thought),\n",
       " ('it', was),\n",
       " ('judges', compromise),\n",
       " ('someone', uses),\n",
       " ('that', was),\n",
       " ('i', thinking),\n",
       " ('you', look),\n",
       " ('maker', was),\n",
       " ('i', 'm),\n",
       " ('levels', contribute),\n",
       " ('man', hit),\n",
       " ('you', have),\n",
       " ('you', wasting),\n",
       " ('i', use),\n",
       " ('i', guess),\n",
       " ('one', wants),\n",
       " ('you', realize),\n",
       " ('key', is),\n",
       " ('girls', driving),\n",
       " ('you', know),\n",
       " ('someone', talking),\n",
       " ('cook', be),\n",
       " ('that', is),\n",
       " ('islam', make),\n",
       " ('that', thinking),\n",
       " ('this', is),\n",
       " ('kat', laugh),\n",
       " ('evil', triumphed),\n",
       " ('pay', is),\n",
       " ('who', arguing),\n",
       " ('what', help),\n",
       " ('i', have),\n",
       " ('who', received),\n",
       " ('who', took),\n",
       " ('they', should),\n",
       " ('models', are),\n",
       " ('kat', do),\n",
       " ('plate', look),\n",
       " ('this', is),\n",
       " ('i', seen),\n",
       " ('i', thinking),\n",
       " ('all', means),\n",
       " ('horror', grow),\n",
       " ('choudary', is),\n",
       " ('they', going),\n",
       " ('it', makes),\n",
       " ('person', is),\n",
       " ('fuss', was),\n",
       " ('i', swear),\n",
       " ('this', surprise),\n",
       " ('it', chased),\n",
       " ('religion', tries),\n",
       " ('you', know),\n",
       " ('kat', is),\n",
       " ('they', doing),\n",
       " ('i', think),\n",
       " ('i', met),\n",
       " ('we', do),\n",
       " ('turkey', is),\n",
       " ('it', 's),\n",
       " ('polls', are),\n",
       " ('pack', be),\n",
       " ('that', circle),\n",
       " ('contestants', married),\n",
       " ('i', ran),\n",
       " ('i', pve),\n",
       " ('majority', came),\n",
       " ('morgan', get),\n",
       " ('i', 'm),\n",
       " ('i', called),\n",
       " ('mommy', limit),\n",
       " ('they', singing),\n",
       " ('you', keep),\n",
       " ('me', want),\n",
       " ('us', are),\n",
       " ('rape', is),\n",
       " ('it', is),\n",
       " ('substances', are),\n",
       " ('it', is),\n",
       " ('head', explode),\n",
       " ('who', agree),\n",
       " ('it', make),\n",
       " ('leo', is),\n",
       " ('isis', has),\n",
       " ('this', pisses),\n",
       " ('we', made),\n",
       " ('it', feel),\n",
       " ('they', got),\n",
       " ('i', changed),\n",
       " ('thing', is),\n",
       " ('you', like),\n",
       " ('you', turn),\n",
       " ('this', is),\n",
       " ('i', 'm),\n",
       " ('i', 'm),\n",
       " ('entitlement', is),\n",
       " ('she', 's),\n",
       " ('pictures', make),\n",
       " ('we', achieve),\n",
       " ('hahaahahahhahahahah', eat),\n",
       " ('lauren', had),\n",
       " ('that', means),\n",
       " ('you', lied),\n",
       " ('i', m),\n",
       " ('incarnations', were),\n",
       " ('twitter', makes),\n",
       " ('immunity', having),\n",
       " ('i', speak),\n",
       " ('repoers', look),\n",
       " ('it', snowing),\n",
       " ('men', do),\n",
       " ('killerblondes', gone),\n",
       " ('i', be),\n",
       " ('he', published),\n",
       " ('i', watch),\n",
       " ('sentences', describe),\n",
       " ('you', know),\n",
       " ('which', is),\n",
       " ('he', 's),\n",
       " ('we', know),\n",
       " ('i', take),\n",
       " ('you', 're),\n",
       " ('i', realize),\n",
       " ('you', had),\n",
       " ('girls', boycott),\n",
       " ('girls', have),\n",
       " ('you', walk),\n",
       " ('it', 's),\n",
       " ('life', is),\n",
       " ('he', rig),\n",
       " ('i', think),\n",
       " ('i', have),\n",
       " ('sheri', go),\n",
       " ('it', was),\n",
       " ('they', know),\n",
       " ('they', want),\n",
       " ('tweet', deserves),\n",
       " ('i', hope),\n",
       " ('this', sounds),\n",
       " ('girls', have),\n",
       " ('me', know),\n",
       " ('i', know),\n",
       " ('i', have),\n",
       " ('husband', force),\n",
       " ('girls', make),\n",
       " ('kat', has),\n",
       " ('you', wanna),\n",
       " ('you', are),\n",
       " ('i', see),\n",
       " ('you', go),\n",
       " ('you', are),\n",
       " ('i', miss),\n",
       " ('it', 's),\n",
       " ('you', will),\n",
       " ('i', see),\n",
       " ('people', gone),\n",
       " ('kat', go),\n",
       " ('i', take),\n",
       " ('pair', stuck),\n",
       " ('a++', install),\n",
       " ('they', have),\n",
       " ('fact', is),\n",
       " ('i', was),\n",
       " ('pictures', show),\n",
       " ('football', talk),\n",
       " ('many', have),\n",
       " ('i', am),\n",
       " ('you', want),\n",
       " ('they', care),\n",
       " ('i', logging),\n",
       " ('you', felt),\n",
       " ('that', blew),\n",
       " ('you', realize),\n",
       " ('you', shelve),\n",
       " ('someone', 's),\n",
       " ('johnnygjokaj', led),\n",
       " ('women', are),\n",
       " ('i', bought),\n",
       " ('it', 's),\n",
       " ('you', know),\n",
       " ('it', 's),\n",
       " ('i', 'm),\n",
       " ('i', watch),\n",
       " ('you', respect),\n",
       " ('rykerdomz', 'm),\n",
       " ('me', know),\n",
       " ('someone', idgaf),\n",
       " ('ass', was),\n",
       " ('kat', seem),\n",
       " ('they', have),\n",
       " ('some', are),\n",
       " ('i', provide),\n",
       " ('he', 's),\n",
       " ('you', keep),\n",
       " ('me', want),\n",
       " ('sweetie', is),\n",
       " ('he', hate),\n",
       " ('you', be),\n",
       " ('he', has),\n",
       " ('i', playing),\n",
       " ('you', mind),\n",
       " ('policy', looks),\n",
       " ('she', is),\n",
       " ('she', described),\n",
       " ('that', bothers),\n",
       " ('him', speak),\n",
       " ('anyone', eliminated),\n",
       " ('you', tell),\n",
       " ('suchanvladimir', go),\n",
       " ('i', forgot),\n",
       " ('yesyouresexist', track),\n",
       " ('they', reacted),\n",
       " ('lisamarienorman', have),\n",
       " ('they', are),\n",
       " ('they', saying),\n",
       " ('expression', be),\n",
       " ('girls', add),\n",
       " ('i', disliked),\n",
       " ('shamiwiteless', expect),\n",
       " ('which', is),\n",
       " ('i', have),\n",
       " ('they', confused),\n",
       " ('this', got),\n",
       " ('salmon', looked),\n",
       " ('you', need),\n",
       " ('u', stay),\n",
       " ('she', admitted),\n",
       " ('i', help),\n",
       " ('i', see),\n",
       " ('i', 'm),\n",
       " ('i', go),\n",
       " ('thing', 's),\n",
       " ('batchelorshow', feardept),\n",
       " ('you', do),\n",
       " ('gidgitvonlarue', switch),\n",
       " ('you', doing),\n",
       " ('she', 's),\n",
       " ('story', is),\n",
       " ('tpstigers', depends),\n",
       " ('it', 's),\n",
       " ('women', are),\n",
       " ('i', admire),\n",
       " ('balls', shrivel),\n",
       " ('that', is),\n",
       " ('that', sent),\n",
       " ('they', copying),\n",
       " ('nubionicwoman', is),\n",
       " ('fuck', do),\n",
       " ('i', say),\n",
       " ('you', sound),\n",
       " ('i', stop),\n",
       " ('you', see),\n",
       " ('they', gone),\n",
       " ('girls', staying),\n",
       " ('it', 's),\n",
       " ('i', want),\n",
       " ('you', talking),\n",
       " ('this', going),\n",
       " ('fees', were),\n",
       " (\"i'm\", torn),\n",
       " ('everything', goes),\n",
       " ('us', kill),\n",
       " ('iq', be),\n",
       " ('this', is),\n",
       " ('i', meant),\n",
       " ('we', do),\n",
       " ('people', died),\n",
       " ('you', seem),\n",
       " ('these', were),\n",
       " ('it', 's),\n",
       " ('it', controls),\n",
       " ('i', miss),\n",
       " ('i', think),\n",
       " ('they', need),\n",
       " ('that', 's),\n",
       " ('i', found),\n",
       " ('i', followed),\n",
       " ('who', understands),\n",
       " ('i', taunted),\n",
       " ('i', used),\n",
       " ('i', think),\n",
       " ('fine', was),\n",
       " ('that', is),\n",
       " ('i', hold),\n",
       " ('bitch', opened),\n",
       " ('they', suck),\n",
       " ('speakers', get),\n",
       " ('you', sit),\n",
       " ('campers', voting),\n",
       " ('chriswarcraft', get),\n",
       " ('they', use),\n",
       " ('you', think),\n",
       " ('substerrr', think),\n",
       " ('you', are),\n",
       " ('info', is),\n",
       " ('i', know),\n",
       " ('history', assume),\n",
       " ('i', spitting),\n",
       " ('ill', be),\n",
       " ('i', 'm),\n",
       " ('they', tend),\n",
       " ('i', can't),\n",
       " ('i', promise),\n",
       " ('you', noticed),\n",
       " ('you', prove),\n",
       " ('i', hope),\n",
       " ('isis', came),\n",
       " ('isis', executed),\n",
       " ('they', admit),\n",
       " ('faire', is),\n",
       " ('mohammed', said),\n",
       " ('he', spent),\n",
       " ('you', deconstruct),\n",
       " ('they', staying),\n",
       " ('who', picks),\n",
       " ('problem', is),\n",
       " ('i', think),\n",
       " ('that', watches),\n",
       " ('who', 's),\n",
       " ('it', 's),\n",
       " ('nikki', make),\n",
       " ('people', be),\n",
       " ('i', 'm),\n",
       " ('who', posted),\n",
       " ('that', look),\n",
       " ('i', made),\n",
       " ('time', is),\n",
       " ('i', hope),\n",
       " ('i', agree),\n",
       " ('who', was),\n",
       " ('i', need),\n",
       " ('that', knock),\n",
       " ('idiot', wastes),\n",
       " ('it', scale),\n",
       " ('who', fighting),\n",
       " ('you', have),\n",
       " ('walk', is),\n",
       " ('you', call),\n",
       " ('imo', has),\n",
       " ('that', 's),\n",
       " ('femininity', is),\n",
       " ('i', swear),\n",
       " ('you', use),\n",
       " ('it', 's),\n",
       " ('families', return),\n",
       " ('that', churning),\n",
       " ('females', drive),\n",
       " ('i', realize),\n",
       " ('they', done),\n",
       " ('i', engage),\n",
       " ('what', did),\n",
       " ('essay', is),\n",
       " ('those', withdrawing),\n",
       " ('i', 'm),\n",
       " ('lifeinkhilafah', stood),\n",
       " ('i', carnt),\n",
       " ('manu', looks),\n",
       " ('talks', went),\n",
       " ('someone', dmed),\n",
       " ('33:33', says),\n",
       " ('you', see),\n",
       " ('men', are),\n",
       " ('it', 's),\n",
       " ('feminists', are),\n",
       " ('i', do),\n",
       " ('that', cook),\n",
       " ('who', win),\n",
       " ('leo', like),\n",
       " ('women', are),\n",
       " ('commander', reveals),\n",
       " ('i', 'm),\n",
       " ('that', is),\n",
       " ('i', agree),\n",
       " ('you', learn),\n",
       " ('complex', turns),\n",
       " ('we', are),\n",
       " ('militia', fight),\n",
       " ('pictures', show),\n",
       " ('i', think),\n",
       " ('it', goes),\n",
       " ('she', try),\n",
       " ('you', cited),\n",
       " ('this', is),\n",
       " ('it', comes),\n",
       " ('clitori', are),\n",
       " ('thing', is),\n",
       " ('you', get),\n",
       " ('girl', come),\n",
       " ('fight', is),\n",
       " ('this', surprise),\n",
       " ('i', think),\n",
       " ('this', being),\n",
       " ('you', planning),\n",
       " ('i', hand),\n",
       " ('sjh_canada', shut),\n",
       " ('notsexist', is),\n",
       " ('show', ends),\n",
       " ('moron', thinks),\n",
       " ('i', assumed),\n",
       " ('i', know),\n",
       " ('i', got),\n",
       " ('i', seen),\n",
       " ('rapists', had),\n",
       " ('it', is),\n",
       " ('i', hitting),\n",
       " ('liamxkiwi', halalflaws),\n",
       " ('i', stand),\n",
       " ('i', mean),\n",
       " ('we', got),\n",
       " ('i', am),\n",
       " ('assembly', required),\n",
       " ('ranger', be),\n",
       " ('i', do),\n",
       " ('it', sends),\n",
       " ('all', went),\n",
       " ('protest', stand),\n",
       " ('country', hates),\n",
       " ('i', think),\n",
       " (\"'s\", talk),\n",
       " ('i', have),\n",
       " ('christians', fought),\n",
       " ('it', broke),\n",
       " ('lock', tells),\n",
       " ('minister', arrive),\n",
       " ('countdown', is),\n",
       " ('he', worry),\n",
       " ('i', 'm),\n",
       " ('i', know),\n",
       " ('antis', stop),\n",
       " ('i', shaking),\n",
       " ('i', imagine),\n",
       " ('quran', likens),\n",
       " ('it', 's),\n",
       " ('they', are),\n",
       " ('it', 's),\n",
       " ('that', kills),\n",
       " ('rape', is),\n",
       " ('you', stop),\n",
       " ('they', won),\n",
       " ('you', have),\n",
       " ('picture', 's),\n",
       " ('car', is),\n",
       " ('i', saw),\n",
       " ('vicsocialites', pulled),\n",
       " ('guy', makes),\n",
       " ('you', realize),\n",
       " ('that', is),\n",
       " ...}"
      ]
     },
     "execution_count": 135,
     "metadata": {},
     "output_type": "execute_result"
    }
   ],
   "source": [
    "nsubj_verbs"
   ]
  },
  {
   "cell_type": "code",
   "execution_count": 128,
   "metadata": {},
   "outputs": [
    {
     "data": {
      "text/plain": [
       "chararray([['two'],\n",
       "           [\"you're\"],\n",
       "           ['i'],\n",
       "           ...,\n",
       "           [''],\n",
       "           [\"'s\"],\n",
       "           ['']], dtype='<U50')"
      ]
     },
     "execution_count": 128,
     "metadata": {},
     "output_type": "execute_result"
    }
   ],
   "source": [
    "nouns"
   ]
  },
  {
   "cell_type": "code",
   "execution_count": 129,
   "metadata": {
    "pycharm": {
     "is_executing": false,
     "name": "#%%\n"
    }
   },
   "outputs": [
    {
     "data": {
      "text/plain": [
       "Text(0.5, 1.0, 'Female Verbs')"
      ]
     },
     "execution_count": 129,
     "metadata": {},
     "output_type": "execute_result"
    },
    {
     "data": {
      "image/png": "[encoded data removed]",
      "text/plain": [
       "<Figure size 360x360 with 2 Axes>"
      ]
     },
     "metadata": {
      "needs_background": "light"
     },
     "output_type": "display_data"
    }
   ],
   "source": [
    "fig, ax = plt.subplots(ncols=2, sharey=True, figsize=(5,5))\n",
    "male_verb_index = [n for n, j in enumerate(nouns) if j[0] == \"man\" or  j[0] == \"men\" ]\n",
    "ax[0] = plot_word_vectors(nsubj_verbs[male_verb_index, :], verbs[male_verb_index, :], ax[0])\n",
    "ax[0].set_title(\"Male Verbs\")\n",
    "\n",
    "female_verb_index = [n for n, j in enumerate(nouns) if j[0] == \"woman\" or  j[0] == \"women\" ]\n",
    "ax[1] = plot_word_vectors(nsubj_verbs[female_verb_index, :], verbs[female_verb_index, :], ax[1])\n",
    "ax[1].set_title(\"Female Verbs\")\n",
    "# plt.savefig(fig_path+\"word_vectors_total_corpus.png\")   \n",
    "\n",
    "# plt.show()"
   ]
  },
  {
   "cell_type": "code",
   "execution_count": 126,
   "metadata": {
    "pycharm": {
     "is_executing": false,
     "name": "#%%\n"
    }
   },
   "outputs": [
    {
     "data": {
      "image/png": "[encoded data removed]",
      "text/plain": [
       "<Figure size 432x288 with 1 Axes>"
      ]
     },
     "metadata": {
      "needs_background": "light"
     },
     "output_type": "display_data"
    }
   ],
   "source": [
    "bigrams = data['text'].apply(lambda tweet: generate_ngrams(tweet, 2))\n",
    "df_bigrams = pd.DataFrame(bigram for bigram in bigrams)\n",
    "df_bigrams = df_bigrams.fillna(\"no bigram\")\n",
    "\n",
    "ADJECTIVE = [\"battered\", \"untreated\", \"barren\", \"shrewish\", \"sheltered\", \"heartbroken\", \"unmarried\", \"undernourished\", \"underweight\", \"uncomplaining\", \"nagging\"]\n",
    "FEMALE = [\"women\", \"woman\"]\n",
    "\n",
    "all_bigrams = []\n",
    "for i in range(0, len(df_bigrams.columns)):\n",
    "    all_bigrams.append(df_bigrams[i].apply(lambda bigram: contains_bigram(bigram, ADJECTIVE, FEMALE)))\n",
    "\n",
    "counts = count_pejorative_bigrams(all_bigrams)\n",
    "df_bigrams_counts = pd.DataFrame(counts, columns=[\"bigrams\", \"counts\"]).groupby(\"bigrams\").count().plot.bar()\n",
    "# plt.show()"
   ]
  },
  {
   "cell_type": "code",
   "execution_count": null,
   "metadata": {},
   "outputs": [],
   "source": []
  }
 ],
 "metadata": {
  "kernelspec": {
   "display_name": "Python 3",
   "language": "python",
   "name": "python3"
  },
  "language_info": {
   "codemirror_mode": {
    "name": "ipython",
    "version": 3
   },
   "file_extension": ".py",
   "mimetype": "text/x-python",
   "name": "python",
   "nbconvert_exporter": "python",
   "pygments_lexer": "ipython3",
   "version": "3.7.4"
  },
  "pycharm": {
   "stem_cell": {
    "cell_type": "raw",
    "metadata": {
     "collapsed": false
    },
    "source": []
   }
  }
 },
 "nbformat": 4,
 "nbformat_minor": 1
}
